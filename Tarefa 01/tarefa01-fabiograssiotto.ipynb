{
 "cells": [
  {
   "cell_type": "markdown",
   "metadata": {},
   "source": [
    "##### CURSO INF0083 - TECNOLOGIAS AVANÇADAS EM IA  \n",
    "##### DISCIPLINA INF0084 - Sistemas Inteligentes e Técnicas Avançadas em IA  \n",
    "##### Tarefa 01: RAG\n",
    "##### Aluno: Fabio Grassiotto"
   ]
  },
  {
   "cell_type": "markdown",
   "metadata": {},
   "source": [
    "#### 1. Ingestão de Dados \n",
    "Instalação de bibliotecas"
   ]
  },
  {
   "cell_type": "code",
   "execution_count": 1,
   "metadata": {},
   "outputs": [
    {
     "name": "stdout",
     "output_type": "stream",
     "text": [
      "Note: you may need to restart the kernel to use updated packages.\n",
      "Note: you may need to restart the kernel to use updated packages.\n",
      "Note: you may need to restart the kernel to use updated packages.\n"
     ]
    }
   ],
   "source": [
    "%pip install -qU datasets==2.14.5 groq pinecone-client==4.1.0 python-dotenv\n",
    "%pip install -qU cohere semantic_router\n",
    "%pip install -qU rag_evaluator"
   ]
  },
  {
   "cell_type": "markdown",
   "metadata": {},
   "source": [
    "Leitura dos dados em um dataframe"
   ]
  },
  {
   "cell_type": "code",
   "execution_count": 2,
   "metadata": {},
   "outputs": [
    {
     "data": {
      "text/html": [
       "<div>\n",
       "<style scoped>\n",
       "    .dataframe tbody tr th:only-of-type {\n",
       "        vertical-align: middle;\n",
       "    }\n",
       "\n",
       "    .dataframe tbody tr th {\n",
       "        vertical-align: top;\n",
       "    }\n",
       "\n",
       "    .dataframe thead th {\n",
       "        text-align: right;\n",
       "    }\n",
       "</style>\n",
       "<table border=\"1\" class=\"dataframe\">\n",
       "  <thead>\n",
       "    <tr style=\"text-align: right;\">\n",
       "      <th></th>\n",
       "      <th>document</th>\n",
       "      <th>id</th>\n",
       "    </tr>\n",
       "  </thead>\n",
       "  <tbody>\n",
       "    <tr>\n",
       "      <th>0</th>\n",
       "      <td>Brasília (pronúncia portuguesa: [bɾaˈziljɐ]) é...</td>\n",
       "      <td>1</td>\n",
       "    </tr>\n",
       "    <tr>\n",
       "      <th>1</th>\n",
       "      <td>A cidade tem um status único no Brasil, já que...</td>\n",
       "      <td>2</td>\n",
       "    </tr>\n",
       "    <tr>\n",
       "      <th>2</th>\n",
       "      <td>Juscelino Kubitschek, presidente do Brasil de ...</td>\n",
       "      <td>3</td>\n",
       "    </tr>\n",
       "    <tr>\n",
       "      <th>3</th>\n",
       "      <td>Até a década de 1980, o governador do Distrito...</td>\n",
       "      <td>4</td>\n",
       "    </tr>\n",
       "    <tr>\n",
       "      <th>4</th>\n",
       "      <td>Brasília tem um clima de savana tropical (Aw) ...</td>\n",
       "      <td>5</td>\n",
       "    </tr>\n",
       "  </tbody>\n",
       "</table>\n",
       "</div>"
      ],
      "text/plain": [
       "                                            document id\n",
       "0  Brasília (pronúncia portuguesa: [bɾaˈziljɐ]) é...  1\n",
       "1  A cidade tem um status único no Brasil, já que...  2\n",
       "2  Juscelino Kubitschek, presidente do Brasil de ...  3\n",
       "3  Até a década de 1980, o governador do Distrito...  4\n",
       "4  Brasília tem um clima de savana tropical (Aw) ...  5"
      ]
     },
     "execution_count": 2,
     "metadata": {},
     "output_type": "execute_result"
    }
   ],
   "source": [
    "import pandas as pd\n",
    "import numpy as np\n",
    "data = pd.read_csv('documents.csv')\n",
    "data['id'] = range(1, len(data) + 1)\n",
    "data['id'] = data['id'].astype(str)\n",
    "data.head()"
   ]
  },
  {
   "cell_type": "markdown",
   "metadata": {},
   "source": [
    "Remoção de valores NaN e strings vazias."
   ]
  },
  {
   "cell_type": "code",
   "execution_count": 3,
   "metadata": {},
   "outputs": [
    {
     "name": "stdout",
     "output_type": "stream",
     "text": [
      "No NaN values in 'column1' and 'column2'\n"
     ]
    }
   ],
   "source": [
    "# Check for NaN values in the columns\n",
    "if data[['document']].isna().any().any():\n",
    "    print(\"There are NaN values in 'title' and 'text'\")\n",
    "\n",
    "    # Remove rows with NaN in the specified columns\n",
    "    data = data.dropna(subset=['title', 'text'])\n",
    "else:\n",
    "    print(\"No NaN values in 'column1' and 'column2'\")\n",
    "\n",
    "# Replace empty strings with NaN\n",
    "data.replace('', np.nan, inplace=True)\n",
    "\n",
    "# Drop rows with NaN values\n",
    "data.dropna(inplace=True)"
   ]
  },
  {
   "cell_type": "markdown",
   "metadata": {},
   "source": [
    "Formatação dos dados no formato para o Pinecone"
   ]
  },
  {
   "cell_type": "code",
   "execution_count": 4,
   "metadata": {},
   "outputs": [
    {
     "data": {
      "text/html": [
       "<div>\n",
       "<style scoped>\n",
       "    .dataframe tbody tr th:only-of-type {\n",
       "        vertical-align: middle;\n",
       "    }\n",
       "\n",
       "    .dataframe tbody tr th {\n",
       "        vertical-align: top;\n",
       "    }\n",
       "\n",
       "    .dataframe thead th {\n",
       "        text-align: right;\n",
       "    }\n",
       "</style>\n",
       "<table border=\"1\" class=\"dataframe\">\n",
       "  <thead>\n",
       "    <tr style=\"text-align: right;\">\n",
       "      <th></th>\n",
       "      <th>document</th>\n",
       "      <th>id</th>\n",
       "      <th>metadata</th>\n",
       "    </tr>\n",
       "  </thead>\n",
       "  <tbody>\n",
       "    <tr>\n",
       "      <th>0</th>\n",
       "      <td>Brasília (pronúncia portuguesa: [bɾaˈziljɐ]) é...</td>\n",
       "      <td>1</td>\n",
       "      <td>{'id': '1', 'content': 'Brasília (pronúncia po...</td>\n",
       "    </tr>\n",
       "    <tr>\n",
       "      <th>1</th>\n",
       "      <td>A cidade tem um status único no Brasil, já que...</td>\n",
       "      <td>2</td>\n",
       "      <td>{'id': '2', 'content': 'A cidade tem um status...</td>\n",
       "    </tr>\n",
       "    <tr>\n",
       "      <th>2</th>\n",
       "      <td>Juscelino Kubitschek, presidente do Brasil de ...</td>\n",
       "      <td>3</td>\n",
       "      <td>{'id': '3', 'content': 'Juscelino Kubitschek, ...</td>\n",
       "    </tr>\n",
       "    <tr>\n",
       "      <th>3</th>\n",
       "      <td>Até a década de 1980, o governador do Distrito...</td>\n",
       "      <td>4</td>\n",
       "      <td>{'id': '4', 'content': 'Até a década de 1980, ...</td>\n",
       "    </tr>\n",
       "    <tr>\n",
       "      <th>4</th>\n",
       "      <td>Brasília tem um clima de savana tropical (Aw) ...</td>\n",
       "      <td>5</td>\n",
       "      <td>{'id': '5', 'content': 'Brasília tem um clima ...</td>\n",
       "    </tr>\n",
       "    <tr>\n",
       "      <th>5</th>\n",
       "      <td>A língua portuguesa é a língua nacional oficia...</td>\n",
       "      <td>6</td>\n",
       "      <td>{'id': '6', 'content': 'A língua portuguesa é ...</td>\n",
       "    </tr>\n",
       "    <tr>\n",
       "      <th>6</th>\n",
       "      <td>A Catedral de Brasília, na capital da Repúblic...</td>\n",
       "      <td>7</td>\n",
       "      <td>{'id': '7', 'content': 'A Catedral de Brasília...</td>\n",
       "    </tr>\n",
       "    <tr>\n",
       "      <th>7</th>\n",
       "      <td>Uma série de anexos baixos (em grande parte oc...</td>\n",
       "      <td>8</td>\n",
       "      <td>{'id': '8', 'content': 'Uma série de anexos ba...</td>\n",
       "    </tr>\n",
       "    <tr>\n",
       "      <th>8</th>\n",
       "      <td>Ambas as habitações de baixo custo e de luxo f...</td>\n",
       "      <td>9</td>\n",
       "      <td>{'id': '9', 'content': 'Ambas as habitações de...</td>\n",
       "    </tr>\n",
       "    <tr>\n",
       "      <th>9</th>\n",
       "      <td>Depois de uma visita a Brasília, a escritora f...</td>\n",
       "      <td>10</td>\n",
       "      <td>{'id': '10', 'content': 'Depois de uma visita ...</td>\n",
       "    </tr>\n",
       "    <tr>\n",
       "      <th>10</th>\n",
       "      <td>Os principais papéis da construção e dos servi...</td>\n",
       "      <td>11</td>\n",
       "      <td>{'id': '11', 'content': 'Os principais papéis ...</td>\n",
       "    </tr>\n",
       "    <tr>\n",
       "      <th>11</th>\n",
       "      <td>Além de ser o centro político, Brasília é um i...</td>\n",
       "      <td>12</td>\n",
       "      <td>{'id': '12', 'content': 'Além de ser o centro ...</td>\n",
       "    </tr>\n",
       "    <tr>\n",
       "      <th>12</th>\n",
       "      <td>O projeto planejado da cidade incluiu áreas es...</td>\n",
       "      <td>13</td>\n",
       "      <td>{'id': '13', 'content': 'O projeto planejado d...</td>\n",
       "    </tr>\n",
       "    <tr>\n",
       "      <th>13</th>\n",
       "      <td>Brasília também tem sido o foco da literatura ...</td>\n",
       "      <td>14</td>\n",
       "      <td>{'id': '14', 'content': 'Brasília também tem s...</td>\n",
       "    </tr>\n",
       "    <tr>\n",
       "      <th>14</th>\n",
       "      <td>A Praça dos Três Poderes (Praça dos Três Poder...</td>\n",
       "      <td>15</td>\n",
       "      <td>{'id': '15', 'content': 'A Praça dos Três Pode...</td>\n",
       "    </tr>\n",
       "    <tr>\n",
       "      <th>15</th>\n",
       "      <td>O Palácio da Alvorada é a residência oficial d...</td>\n",
       "      <td>16</td>\n",
       "      <td>{'id': '16', 'content': 'O Palácio da Alvorada...</td>\n",
       "    </tr>\n",
       "    <tr>\n",
       "      <th>16</th>\n",
       "      <td>O Palácio do Planalto é o local de trabalho of...</td>\n",
       "      <td>17</td>\n",
       "      <td>{'id': '17', 'content': 'O Palácio do Planalto...</td>\n",
       "    </tr>\n",
       "    <tr>\n",
       "      <th>17</th>\n",
       "      <td>Isso faz com que um grande número de decolagen...</td>\n",
       "      <td>18</td>\n",
       "      <td>{'id': '18', 'content': 'Isso faz com que um g...</td>\n",
       "    </tr>\n",
       "    <tr>\n",
       "      <th>18</th>\n",
       "      <td>Em 2014, o aeroporto recebeu 15 novas pontes d...</td>\n",
       "      <td>19</td>\n",
       "      <td>{'id': '19', 'content': 'Em 2014, o aeroporto ...</td>\n",
       "    </tr>\n",
       "    <tr>\n",
       "      <th>19</th>\n",
       "      <td>A ponte Juscelino Kubitschek, também conhecida...</td>\n",
       "      <td>20</td>\n",
       "      <td>{'id': '20', 'content': 'A ponte Juscelino Kub...</td>\n",
       "    </tr>\n",
       "    <tr>\n",
       "      <th>20</th>\n",
       "      <td>O metrô sai da Rodoviária e vai para o sul, ev...</td>\n",
       "      <td>21</td>\n",
       "      <td>{'id': '21', 'content': 'O metrô sai da Rodovi...</td>\n",
       "    </tr>\n",
       "    <tr>\n",
       "      <th>21</th>\n",
       "      <td>No plano original da cidade, os ônibus interes...</td>\n",
       "      <td>22</td>\n",
       "      <td>{'id': '22', 'content': 'No plano original da ...</td>\n",
       "    </tr>\n",
       "    <tr>\n",
       "      <th>22</th>\n",
       "      <td>Brasília é conhecida como um ponto de partida ...</td>\n",
       "      <td>23</td>\n",
       "      <td>{'id': '23', 'content': 'Brasília é conhecida ...</td>\n",
       "    </tr>\n",
       "  </tbody>\n",
       "</table>\n",
       "</div>"
      ],
      "text/plain": [
       "                                             document  id  \\\n",
       "0   Brasília (pronúncia portuguesa: [bɾaˈziljɐ]) é...   1   \n",
       "1   A cidade tem um status único no Brasil, já que...   2   \n",
       "2   Juscelino Kubitschek, presidente do Brasil de ...   3   \n",
       "3   Até a década de 1980, o governador do Distrito...   4   \n",
       "4   Brasília tem um clima de savana tropical (Aw) ...   5   \n",
       "5   A língua portuguesa é a língua nacional oficia...   6   \n",
       "6   A Catedral de Brasília, na capital da Repúblic...   7   \n",
       "7   Uma série de anexos baixos (em grande parte oc...   8   \n",
       "8   Ambas as habitações de baixo custo e de luxo f...   9   \n",
       "9   Depois de uma visita a Brasília, a escritora f...  10   \n",
       "10  Os principais papéis da construção e dos servi...  11   \n",
       "11  Além de ser o centro político, Brasília é um i...  12   \n",
       "12  O projeto planejado da cidade incluiu áreas es...  13   \n",
       "13  Brasília também tem sido o foco da literatura ...  14   \n",
       "14  A Praça dos Três Poderes (Praça dos Três Poder...  15   \n",
       "15  O Palácio da Alvorada é a residência oficial d...  16   \n",
       "16  O Palácio do Planalto é o local de trabalho of...  17   \n",
       "17  Isso faz com que um grande número de decolagen...  18   \n",
       "18  Em 2014, o aeroporto recebeu 15 novas pontes d...  19   \n",
       "19  A ponte Juscelino Kubitschek, também conhecida...  20   \n",
       "20  O metrô sai da Rodoviária e vai para o sul, ev...  21   \n",
       "21  No plano original da cidade, os ônibus interes...  22   \n",
       "22  Brasília é conhecida como um ponto de partida ...  23   \n",
       "\n",
       "                                             metadata  \n",
       "0   {'id': '1', 'content': 'Brasília (pronúncia po...  \n",
       "1   {'id': '2', 'content': 'A cidade tem um status...  \n",
       "2   {'id': '3', 'content': 'Juscelino Kubitschek, ...  \n",
       "3   {'id': '4', 'content': 'Até a década de 1980, ...  \n",
       "4   {'id': '5', 'content': 'Brasília tem um clima ...  \n",
       "5   {'id': '6', 'content': 'A língua portuguesa é ...  \n",
       "6   {'id': '7', 'content': 'A Catedral de Brasília...  \n",
       "7   {'id': '8', 'content': 'Uma série de anexos ba...  \n",
       "8   {'id': '9', 'content': 'Ambas as habitações de...  \n",
       "9   {'id': '10', 'content': 'Depois de uma visita ...  \n",
       "10  {'id': '11', 'content': 'Os principais papéis ...  \n",
       "11  {'id': '12', 'content': 'Além de ser o centro ...  \n",
       "12  {'id': '13', 'content': 'O projeto planejado d...  \n",
       "13  {'id': '14', 'content': 'Brasília também tem s...  \n",
       "14  {'id': '15', 'content': 'A Praça dos Três Pode...  \n",
       "15  {'id': '16', 'content': 'O Palácio da Alvorada...  \n",
       "16  {'id': '17', 'content': 'O Palácio do Planalto...  \n",
       "17  {'id': '18', 'content': 'Isso faz com que um g...  \n",
       "18  {'id': '19', 'content': 'Em 2014, o aeroporto ...  \n",
       "19  {'id': '20', 'content': 'A ponte Juscelino Kub...  \n",
       "20  {'id': '21', 'content': 'O metrô sai da Rodovi...  \n",
       "21  {'id': '22', 'content': 'No plano original da ...  \n",
       "22  {'id': '23', 'content': 'Brasília é conhecida ...  "
      ]
     },
     "execution_count": 4,
     "metadata": {},
     "output_type": "execute_result"
    }
   ],
   "source": [
    "data['metadata'] = data.apply(lambda x: {\n",
    "    \"id\": x[\"id\"],\n",
    "    \"content\": x[\"document\"]\n",
    "}, axis=1)\n",
    "data"
   ]
  },
  {
   "cell_type": "markdown",
   "metadata": {},
   "source": [
    "Seleção de um modelo de embedding"
   ]
  },
  {
   "cell_type": "code",
   "execution_count": 5,
   "metadata": {},
   "outputs": [],
   "source": [
    "from semantic_router.encoders import HuggingFaceEncoder\n",
    "encoder = HuggingFaceEncoder(name=\"dwzhu/e5-base-4k\")"
   ]
  },
  {
   "cell_type": "code",
   "execution_count": 6,
   "metadata": {},
   "outputs": [
    {
     "data": {
      "text/plain": [
       "'cuda'"
      ]
     },
     "execution_count": 6,
     "metadata": {},
     "output_type": "execute_result"
    }
   ],
   "source": [
    "encoder.device"
   ]
  },
  {
   "cell_type": "markdown",
   "metadata": {},
   "source": [
    "Verificar a dimensionalidade dos embeddings:"
   ]
  },
  {
   "cell_type": "code",
   "execution_count": 7,
   "metadata": {},
   "outputs": [
    {
     "data": {
      "text/plain": [
       "768"
      ]
     },
     "execution_count": 7,
     "metadata": {},
     "output_type": "execute_result"
    }
   ],
   "source": [
    "embeds = encoder([\"this is a test\"])\n",
    "dims = len(embeds[0])\n",
    "dims"
   ]
  },
  {
   "cell_type": "markdown",
   "metadata": {},
   "source": [
    "Configuração do cliente Pinecone"
   ]
  },
  {
   "cell_type": "code",
   "execution_count": 8,
   "metadata": {},
   "outputs": [],
   "source": [
    "from pinecone import Pinecone\n",
    "\n",
    "# Read the API key from the file\n",
    "with open('pinecone.key', 'r') as file:\n",
    "    api_key = file.read().strip()\n",
    "\n",
    "# configure client\n",
    "pc = Pinecone(api_key=api_key)"
   ]
  },
  {
   "cell_type": "code",
   "execution_count": 9,
   "metadata": {},
   "outputs": [],
   "source": [
    "from pinecone import ServerlessSpec\n",
    "\n",
    "spec = ServerlessSpec(\n",
    "    cloud=\"aws\", region=\"us-east-1\"\n",
    ")"
   ]
  },
  {
   "cell_type": "markdown",
   "metadata": {},
   "source": [
    "Criação de um índice compatível com o modelo de embedding utilizado."
   ]
  },
  {
   "cell_type": "code",
   "execution_count": 10,
   "metadata": {},
   "outputs": [
    {
     "data": {
      "text/plain": [
       "{'dimension': 768,\n",
       " 'index_fullness': 0.0,\n",
       " 'namespaces': {'': {'vector_count': 23}},\n",
       " 'total_vector_count': 23}"
      ]
     },
     "execution_count": 10,
     "metadata": {},
     "output_type": "execute_result"
    }
   ],
   "source": [
    "import time\n",
    "\n",
    "index_name = \"tarefa01\"\n",
    "existing_indexes = [\n",
    "    index_info[\"name\"] for index_info in pc.list_indexes()\n",
    "]\n",
    "\n",
    "# check if index already exists (it shouldn't if this is first time)\n",
    "if index_name not in existing_indexes:\n",
    "    # if does not exist, create index\n",
    "    pc.create_index(\n",
    "        index_name,\n",
    "        dimension=dims,\n",
    "        metric='cosine',\n",
    "        spec=spec\n",
    "    )\n",
    "    # wait for index to be initialized\n",
    "    while not pc.describe_index(index_name).status['ready']:\n",
    "        time.sleep(1)\n",
    "\n",
    "# connect to index\n",
    "index = pc.Index(index_name)\n",
    "time.sleep(1)\n",
    "# view index stats\n",
    "index.describe_index_stats()"
   ]
  },
  {
   "cell_type": "code",
   "execution_count": 11,
   "metadata": {},
   "outputs": [
    {
     "data": {
      "application/vnd.jupyter.widget-view+json": {
       "model_id": "d12aa4004c204971b0b1d072852cd739",
       "version_major": 2,
       "version_minor": 0
      },
      "text/plain": [
       "  0%|          | 0/23 [00:00<?, ?it/s]"
      ]
     },
     "metadata": {},
     "output_type": "display_data"
    }
   ],
   "source": [
    "from tqdm.auto import tqdm\n",
    "\n",
    "batch_size = 1  # how many embeddings we create and insert at once\n",
    "data_size = 200 # how many embeddings we create in total\n",
    "\n",
    "for i in tqdm(range(0, len(data[:data_size]), batch_size)):\n",
    "    # find end of batch\n",
    "    i_end = min(len(data), i+batch_size)\n",
    "    # create batch\n",
    "    batch = data[i:i_end]\n",
    "    # create embeddings\n",
    "    chunks = [f'{x[\"content\"]}' for x in batch[\"metadata\"]]\n",
    "    embeds = encoder(chunks)\n",
    "    assert len(embeds) == (i_end-i)\n",
    "    to_upsert = list(zip(batch[\"id\"], embeds, batch[\"metadata\"]))\n",
    "    # upsert to Pinecone\n",
    "    index.upsert(vectors=to_upsert)"
   ]
  },
  {
   "cell_type": "code",
   "execution_count": 12,
   "metadata": {},
   "outputs": [
    {
     "data": {
      "text/plain": [
       "22    {'id': '23', 'content': 'Brasília é conhecida ...\n",
       "Name: metadata, dtype: object"
      ]
     },
     "execution_count": 12,
     "metadata": {},
     "output_type": "execute_result"
    }
   ],
   "source": [
    "batch[\"metadata\"]"
   ]
  },
  {
   "cell_type": "markdown",
   "metadata": {},
   "source": [
    "#### 2. Realizando a Recuperação de Documentos"
   ]
  },
  {
   "cell_type": "markdown",
   "metadata": {},
   "source": [
    "Leitura das perguntas do usuário e respostas ('ground truths')"
   ]
  },
  {
   "cell_type": "code",
   "execution_count": 13,
   "metadata": {},
   "outputs": [
    {
     "data": {
      "text/html": [
       "<div>\n",
       "<style scoped>\n",
       "    .dataframe tbody tr th:only-of-type {\n",
       "        vertical-align: middle;\n",
       "    }\n",
       "\n",
       "    .dataframe tbody tr th {\n",
       "        vertical-align: top;\n",
       "    }\n",
       "\n",
       "    .dataframe thead th {\n",
       "        text-align: right;\n",
       "    }\n",
       "</style>\n",
       "<table border=\"1\" class=\"dataframe\">\n",
       "  <thead>\n",
       "    <tr style=\"text-align: right;\">\n",
       "      <th></th>\n",
       "      <th>question</th>\n",
       "      <th>answer</th>\n",
       "      <th>id</th>\n",
       "    </tr>\n",
       "  </thead>\n",
       "  <tbody>\n",
       "    <tr>\n",
       "      <th>0</th>\n",
       "      <td>Qual é a capital do Brasil?</td>\n",
       "      <td>Brasília</td>\n",
       "      <td>1</td>\n",
       "    </tr>\n",
       "    <tr>\n",
       "      <th>1</th>\n",
       "      <td>Em que região do Brasil está Brasília?</td>\n",
       "      <td>centro-oeste</td>\n",
       "      <td>2</td>\n",
       "    </tr>\n",
       "    <tr>\n",
       "      <th>2</th>\n",
       "      <td>Qual é o PIB per capita de Brasília em dólares...</td>\n",
       "      <td>US $ 36.175</td>\n",
       "      <td>3</td>\n",
       "    </tr>\n",
       "    <tr>\n",
       "      <th>3</th>\n",
       "      <td>Quando foi fundada Brasília?</td>\n",
       "      <td>21 de abril de 1960</td>\n",
       "      <td>4</td>\n",
       "    </tr>\n",
       "    <tr>\n",
       "      <th>4</th>\n",
       "      <td>Qual é a população da área metropolitana de Br...</td>\n",
       "      <td>2.556.149</td>\n",
       "      <td>5</td>\n",
       "    </tr>\n",
       "  </tbody>\n",
       "</table>\n",
       "</div>"
      ],
      "text/plain": [
       "                                            question               answer id\n",
       "0                        Qual é a capital do Brasil?             Brasília  1\n",
       "1             Em que região do Brasil está Brasília?         centro-oeste  2\n",
       "2  Qual é o PIB per capita de Brasília em dólares...          US $ 36.175  3\n",
       "3                       Quando foi fundada Brasília?  21 de abril de 1960  4\n",
       "4  Qual é a população da área metropolitana de Br...            2.556.149  5"
      ]
     },
     "execution_count": 13,
     "metadata": {},
     "output_type": "execute_result"
    }
   ],
   "source": [
    "queries = pd.read_csv('qa_pairs.csv')\n",
    "queries['id'] = range(1, len(queries) + 1)\n",
    "queries['id'] = data['id'].astype(str)\n",
    "queries.head()"
   ]
  },
  {
   "cell_type": "markdown",
   "metadata": {},
   "source": [
    "Teste do retrieval com 3 consultas diferentes."
   ]
  },
  {
   "cell_type": "code",
   "execution_count": 14,
   "metadata": {},
   "outputs": [],
   "source": [
    "def get_docs(query: str, top_k: int) -> list[str]:\n",
    "    # encode query\n",
    "    xq = encoder([query])\n",
    "    # search pinecone index\n",
    "    res = index.query(vector=xq, top_k=top_k, include_metadata=True)\n",
    "    # get doc text\n",
    "    docs = [x[\"metadata\"]['content'] for x in res[\"matches\"]]\n",
    "    return docs"
   ]
  },
  {
   "cell_type": "code",
   "execution_count": 15,
   "metadata": {},
   "outputs": [],
   "source": [
    "rnd_queries = queries.sample(n=3)"
   ]
  },
  {
   "cell_type": "code",
   "execution_count": 16,
   "metadata": {},
   "outputs": [
    {
     "name": "stdout",
     "output_type": "stream",
     "text": [
      "Consulta: Que Copa das Confederações recebeu Brasília?\n",
      "Document 1: Juscelino Kubitschek, presidente do Brasil de 1956 a 1961, ordenou a construção de Brasília, cumprindo a promessa da Constituição e sua própria promessa de campanha política. O prédio de Brasília fazia parte do plano de &quot;cinquenta anos de prosperidade em cinco&quot; de Juscelino. Lúcio Costa venceu um concurso e foi o principal planejador urbano em 1957, com 5550 pessoas competindo. Oscar Niemeyer, um amigo próximo, foi o arquiteto-chefe da maioria dos edifícios públicos e Roberto Burle Marx foi o paisagista. Brasília foi construída em 41 meses, de 1956 a 21 de abril de 1960, quando foi oficialmente inaugurada.\n",
      "Document 2: Até a década de 1980, o governador do Distrito Federal era nomeado pelo Governo Federal e as leis de Brasília eram emitidas pelo Senado Federal brasileiro. Com a Constituição de 1988, Brasília ganhou o direito de eleger seu governador, e uma Assembleia Distrital (Câmara Legislativa) foi eleita para exercer o poder legislativo. O Distrito Federal não possui um Poder Judiciário próprio. O Poder Judiciário que atende ao Distrito Federal também atende a territórios federais. Atualmente, o Brasil não possui territórios, portanto, por enquanto os tribunais atendem apenas casos do Distrito Federal.\n",
      "Document 3: A cidade tem um status único no Brasil, já que é uma divisão administrativa e não um município legal como outras cidades do Brasil. O nome &#39;Brasília&#39; é comumente usado como sinônimo para o Distrito Federal através de sinédoque; No entanto, o Distrito Federal é composto por 31 regiões administrativas, apenas uma delas é Brasília, com uma população de 209.926 em uma pesquisa de 2011; As publicações demográficas geralmente não fazem essa distinção e listam a população de Brasília como sinônimo da população do Distrito Federal, considerando a totalidade dela como sua área metropolitana. A cidade foi uma das principais cidades-sede da Copa do Mundo da FIFA de 2014. Além disso, Brasília sediou a Copa das Confederações da FIFA de 2013.\n",
      "Document 4: Brasília também tem sido o foco da literatura moderna. Publicado em 2008, O Mundo em Cinza: A Profecia de Dom Bosco, do autor Ryan J. Lucero, conta uma história apocalíptica baseada na famosa profecia do final do século XIX do santo italiano Dom Bosco. Segundo a profecia de Dom Bosco: &quot;Entre os paralelos 15 e 20, em volta de um lago que será formado, uma grande civilização prosperará, e essa será a Terra Prometida&quot;. Brasília fica entre os paralelos 15 ° S e 20 ° S, onde um lago artificial (Lago Paranoá) foi formado. Dom Bosco é o santo padroeiro de Brasília.\n",
      "Document 5: A Catedral de Brasília, na capital da República Federativa do Brasil, é uma expressão do arquiteto Oscar Niemeyer. Essa estrutura hiperbolóide de estrutura de concreto parece com seu telhado de vidro se estendendo para os céus. Em 31 de maio de 1970, a estrutura da Catedral estava terminada, e apenas o diâmetro de 70 m (229,66 pés) da área circular era visível. O projeto de Niemeyer da Catedral de Brasília é baseado no hiperbolóide da revolução, cujas seções são assimétricas. A própria estrutura hiperbolóide é o resultado de 16 colunas de concreto montadas idênticas. Estas colunas, tendo seção hiperbólica e pesando 90 t, representam duas mãos subindo para o céu. A catedral foi dedicada em 31 de maio de 1970.\n",
      "\n",
      "Consulta: Qual é a indústria de não serviços mais importante de Brasília?\n",
      "Document 1: Os principais papéis da construção e dos serviços (governo, comunicações, bancos e finanças, produção de alimentos, entretenimento e serviços jurídicos) na economia de Brasília refletem o status da cidade como um centro governamental e não industrial. Indústrias ligadas à construção, processamento de alimentos e móveis são importantes, assim como aquelas associadas à publicação, impressão e software de computador. O PIB está dividido em Administração Pública 54,8%, Serviços 28,7%, Indústria 10,2%, Comércio 6,1% e Agronegócio 0,2%.\n",
      "Document 2: Além de ser o centro político, Brasília é um importante centro econômico. Brasília tem o maior produto interno bruto (PIB) da cidade, de 99,5 bilhões de reais, representando 3,76% do total do PIB brasileiro. A principal atividade econômica da capital federal resulta de sua função administrativa. Seu planejamento industrial é estudado com cuidado pelo Governo do Distrito Federal. Por ser uma cidade registrada pela Unesco, o governo de Brasília optou por incentivar o desenvolvimento de indústrias não poluentes, como software, cinema, vídeo e gemologia, entre outras, com ênfase na preservação ambiental e manutenção do equilíbrio ecológico, preservando a propriedade da cidade.\n",
      "Document 3: Depois de uma visita a Brasília, a escritora francesa Simone de Beauvoir reclamou que todas as suas superquadras exsudavam &quot;o mesmo ar de monotonia elegante&quot;, e outros observadores equipararam os grandes gramados, praças e campos da cidade a terrenos baldios. Com o amadurecimento da cidade, alguns deles ganharam adornos, e muitos foram melhorados pelo paisagismo, dando a alguns observadores uma sensação de espaço &quot;humanizado&quot;. Embora não plenamente realizada, a &quot;utopia de Brasília&quot; produziu uma cidade de qualidade de vida relativamente alta, na qual os cidadãos moram em áreas florestais com estruturas esportivas e de lazer (as superquadras) ladeadas por pequenas áreas comerciais, livrarias e cafés; a cidade é famosa por sua culinária e eficiência de trânsito.\n",
      "Document 4: Juscelino Kubitschek, presidente do Brasil de 1956 a 1961, ordenou a construção de Brasília, cumprindo a promessa da Constituição e sua própria promessa de campanha política. O prédio de Brasília fazia parte do plano de &quot;cinquenta anos de prosperidade em cinco&quot; de Juscelino. Lúcio Costa venceu um concurso e foi o principal planejador urbano em 1957, com 5550 pessoas competindo. Oscar Niemeyer, um amigo próximo, foi o arquiteto-chefe da maioria dos edifícios públicos e Roberto Burle Marx foi o paisagista. Brasília foi construída em 41 meses, de 1956 a 21 de abril de 1960, quando foi oficialmente inaugurada.\n",
      "Document 5: Isso faz com que um grande número de decolagens e aterrissagens e não seja incomum que os vôos sejam atrasados no padrão de espera antes do pouso. Seguindo o plano diretor do aeroporto, a Infraero construiu uma segunda pista, que foi concluída em 2006. Em 2007, o aeroporto movimentou 11.119.872 passageiros. O terceiro andar do prédio principal, com 12 mil metros quadrados, possui deck panorâmico, praça de alimentação, lojas, quatro salas de cinema com capacidade total de 500 pessoas e espaço para exposições. O aeroporto de Brasília possui 136 vagas de fornecedores. O aeroporto está localizado a cerca de 11 km da área central de Brasília, fora do sistema de metrô. A área externa do portão principal do aeroporto é repleta de táxis, além de vários serviços de linhas de ônibus que ligam o aeroporto ao distrito central de Brasília. O estacionamento acomoda 1.200 carros. O aeroporto é atendido por companhias aéreas domésticas e regionais (TAM, GOL, Azul, WebJET, Trip e Avianca), além de várias operadoras internacionais. Em 2012, o Aeroporto Internacional de Brasília foi conquistado pelo consórcio InfrAmerica, formado pela empresa brasileira de engenharia ENGEVIX e pela holding argentina Corporacion America, com 50% de participação cada. Durante a concessão de 25 anos, o aeroporto pode ser expandido para até 40 milhões de passageiros por ano.\n",
      "\n",
      "Consulta: Em 2000, quantas pessoas moravam em Taguatinga?\n",
      "Document 1: O metrô sai da Rodoviária e vai para o sul, evitando a maioria das áreas políticas e turísticas. O principal objetivo do metrô é atender cidades como Samambaia, Taguatinga e Ceilândia, além de Guará e Águas Claras. As cidades satélites atendidas são mais populosas no total do que o próprio Plano Piloto (o censo de 2000 indicou que Ceilândia tinha 344.039 habitantes, Taguatinga tinha 243.575, enquanto o Plano Piloto tinha aproximadamente 400.000 habitantes) e a maioria dos moradores das cidades satélites transporte.\n",
      "Document 2: Depois de uma visita a Brasília, a escritora francesa Simone de Beauvoir reclamou que todas as suas superquadras exsudavam &quot;o mesmo ar de monotonia elegante&quot;, e outros observadores equipararam os grandes gramados, praças e campos da cidade a terrenos baldios. Com o amadurecimento da cidade, alguns deles ganharam adornos, e muitos foram melhorados pelo paisagismo, dando a alguns observadores uma sensação de espaço &quot;humanizado&quot;. Embora não plenamente realizada, a &quot;utopia de Brasília&quot; produziu uma cidade de qualidade de vida relativamente alta, na qual os cidadãos moram em áreas florestais com estruturas esportivas e de lazer (as superquadras) ladeadas por pequenas áreas comerciais, livrarias e cafés; a cidade é famosa por sua culinária e eficiência de trânsito.\n",
      "Document 3: Brasília também tem sido o foco da literatura moderna. Publicado em 2008, O Mundo em Cinza: A Profecia de Dom Bosco, do autor Ryan J. Lucero, conta uma história apocalíptica baseada na famosa profecia do final do século XIX do santo italiano Dom Bosco. Segundo a profecia de Dom Bosco: &quot;Entre os paralelos 15 e 20, em volta de um lago que será formado, uma grande civilização prosperará, e essa será a Terra Prometida&quot;. Brasília fica entre os paralelos 15 ° S e 20 ° S, onde um lago artificial (Lago Paranoá) foi formado. Dom Bosco é o santo padroeiro de Brasília.\n",
      "Document 4: A Catedral de Brasília, na capital da República Federativa do Brasil, é uma expressão do arquiteto Oscar Niemeyer. Essa estrutura hiperbolóide de estrutura de concreto parece com seu telhado de vidro se estendendo para os céus. Em 31 de maio de 1970, a estrutura da Catedral estava terminada, e apenas o diâmetro de 70 m (229,66 pés) da área circular era visível. O projeto de Niemeyer da Catedral de Brasília é baseado no hiperbolóide da revolução, cujas seções são assimétricas. A própria estrutura hiperbolóide é o resultado de 16 colunas de concreto montadas idênticas. Estas colunas, tendo seção hiperbólica e pesando 90 t, representam duas mãos subindo para o céu. A catedral foi dedicada em 31 de maio de 1970.\n",
      "Document 5: Isso faz com que um grande número de decolagens e aterrissagens e não seja incomum que os vôos sejam atrasados no padrão de espera antes do pouso. Seguindo o plano diretor do aeroporto, a Infraero construiu uma segunda pista, que foi concluída em 2006. Em 2007, o aeroporto movimentou 11.119.872 passageiros. O terceiro andar do prédio principal, com 12 mil metros quadrados, possui deck panorâmico, praça de alimentação, lojas, quatro salas de cinema com capacidade total de 500 pessoas e espaço para exposições. O aeroporto de Brasília possui 136 vagas de fornecedores. O aeroporto está localizado a cerca de 11 km da área central de Brasília, fora do sistema de metrô. A área externa do portão principal do aeroporto é repleta de táxis, além de vários serviços de linhas de ônibus que ligam o aeroporto ao distrito central de Brasília. O estacionamento acomoda 1.200 carros. O aeroporto é atendido por companhias aéreas domésticas e regionais (TAM, GOL, Azul, WebJET, Trip e Avianca), além de várias operadoras internacionais. Em 2012, o Aeroporto Internacional de Brasília foi conquistado pelo consórcio InfrAmerica, formado pela empresa brasileira de engenharia ENGEVIX e pela holding argentina Corporacion America, com 50% de participação cada. Durante a concessão de 25 anos, o aeroporto pode ser expandido para até 40 milhões de passageiros por ano.\n",
      "\n"
     ]
    }
   ],
   "source": [
    "for i, row in rnd_queries.iterrows():\n",
    "    query = row['question']\n",
    "    print(f\"Consulta: {query}\")\n",
    "    docs = get_docs(query, 5)\n",
    "    for i, doc in enumerate(docs):\n",
    "        print(f\"Document {i+1}: {doc}\")\n",
    "    print()\n",
    "str = rnd_queries.iloc[0]['question']"
   ]
  },
  {
   "cell_type": "markdown",
   "metadata": {},
   "source": [
    "Análise de relevância dos documentos\n",
    "\n",
    "Podemos verificar que os documentos retornados mostram relevância para a solução das consultas solicitadas, principalmente na primeira e na terceira consulta.\n",
    "Seria uma tarefa simples para um modelo de linguagem retornar a resposta correta tendo como base os documentos retornados.\n",
    "\n"
   ]
  },
  {
   "cell_type": "markdown",
   "metadata": {},
   "source": [
    "#### 3. Geração de respostas com modelos"
   ]
  },
  {
   "cell_type": "code",
   "execution_count": 17,
   "metadata": {},
   "outputs": [],
   "source": [
    "from groq import Groq\n",
    "\n",
    "# Read the API key from the file\n",
    "with open('grok.key', 'r') as file:\n",
    "    grok_key = file.read().strip()\n",
    "\n",
    "client = Groq(\n",
    "    api_key=grok_key\n",
    ")"
   ]
  },
  {
   "cell_type": "code",
   "execution_count": 18,
   "metadata": {},
   "outputs": [],
   "source": [
    "def groq_chat(docs, query):\n",
    "    message = (\n",
    "        \"Você é um assistente especializado em responder perguntas. \"\n",
    "        \"Sua resposta deve ser baseada exclusivamente no contexto fornecido abaixo. \"\n",
    "        \"Se a informação solicitada não estiver presente nos documentos, responda que nenhum documento relevante foi encontrado.\\n\\n\"\n",
    "        \"CONTEXTO:\\n\"\n",
    "        + \"\\n---\\n\".join(docs)\n",
    "        + \"\\n\\nLembre-se: Se não houver um documento relevante para a pergunta, responda que nenhum documento relevante foi encontrado.\\n\\n\"\n",
    "        \"PERGUNTA: \" + query\n",
    "    )\n",
    "\n",
    "    print(query)\n",
    "    chat_completion = client.chat.completions.create(\n",
    "        messages=[\n",
    "            {\n",
    "                \"role\": \"user\",\n",
    "                \"content\": message,\n",
    "            }\n",
    "        ],\n",
    "        model=\"llama-3.3-70b-versatile\",\n",
    "    )\n",
    "\n",
    "    resp = (chat_completion.choices[0].message.content)\n",
    "    return resp"
   ]
  },
  {
   "cell_type": "code",
   "execution_count": 19,
   "metadata": {},
   "outputs": [
    {
     "name": "stdout",
     "output_type": "stream",
     "text": [
      "Que Copa das Confederações recebeu Brasília?\n",
      "Qual é a indústria de não serviços mais importante de Brasília?\n",
      "Em 2000, quantas pessoas moravam em Taguatinga?\n"
     ]
    }
   ],
   "source": [
    "responses = []\n",
    "for i, row in rnd_queries.iterrows():\n",
    "    query = row['question']\n",
    "    docs = get_docs(query, 5)\n",
    "    resp = groq_chat(docs, query)\n",
    "    responses.append(resp)"
   ]
  },
  {
   "cell_type": "code",
   "execution_count": 20,
   "metadata": {},
   "outputs": [
    {
     "name": "stdout",
     "output_type": "stream",
     "text": [
      "Respostas da LLM:\n",
      "Brasília sediou a Copa das Confederações da FIFA de 2013.\n",
      "\n",
      "De acordo com o contexto fornecido, a indústria de não serviços mais importante de Brasília está relacionada à construção, seguida pelo processamento de alimentos e indústria de móveis. Além disso, são mencionadas as indústrias associadas à publicação, impressão e software de computador como sendo importantes. No entanto, não há uma indicação clara de que uma dessas indústrias seja considerada como a \"mais importante\" em termos de contribuição para o PIB ou emprego.\n",
      "\n",
      "Entretanto, considerando o contexto e a distribuição do PIB, que tem 10,2% relacionado à indústria, pode-se inferir que a indústria de construção é uma das mais relevantes, dado o papel da construção na economia de Brasília, que é mencionado como um dos principais papéis da cidade.\n",
      "\n",
      "De acordo com o contexto fornecido, em 2000, Taguatinga tinha 243.575 habitantes.\n",
      "\n"
     ]
    }
   ],
   "source": [
    "print(\"Respostas da LLM:\")\n",
    "for r in responses:\n",
    "    print(r)\n",
    "    print()"
   ]
  },
  {
   "cell_type": "markdown",
   "metadata": {},
   "source": [
    "#### 4. Avaliação das respostas geradas"
   ]
  },
  {
   "cell_type": "markdown",
   "metadata": {},
   "source": [
    "Criação de novo dataframe para avaliações usando RAG_EVALUATOR"
   ]
  },
  {
   "cell_type": "code",
   "execution_count": 21,
   "metadata": {},
   "outputs": [
    {
     "data": {
      "text/html": [
       "<div>\n",
       "<style scoped>\n",
       "    .dataframe tbody tr th:only-of-type {\n",
       "        vertical-align: middle;\n",
       "    }\n",
       "\n",
       "    .dataframe tbody tr th {\n",
       "        vertical-align: top;\n",
       "    }\n",
       "\n",
       "    .dataframe thead th {\n",
       "        text-align: right;\n",
       "    }\n",
       "</style>\n",
       "<table border=\"1\" class=\"dataframe\">\n",
       "  <thead>\n",
       "    <tr style=\"text-align: right;\">\n",
       "      <th></th>\n",
       "      <th>question</th>\n",
       "      <th>answer</th>\n",
       "      <th>llm_response</th>\n",
       "    </tr>\n",
       "  </thead>\n",
       "  <tbody>\n",
       "    <tr>\n",
       "      <th>0</th>\n",
       "      <td>Que Copa das Confederações recebeu Brasília?</td>\n",
       "      <td>2013</td>\n",
       "      <td>Brasília sediou a Copa das Confederações da FI...</td>\n",
       "    </tr>\n",
       "    <tr>\n",
       "      <th>1</th>\n",
       "      <td>Qual é a indústria de não serviços mais import...</td>\n",
       "      <td>construção</td>\n",
       "      <td>De acordo com o contexto fornecido, a indústri...</td>\n",
       "    </tr>\n",
       "    <tr>\n",
       "      <th>2</th>\n",
       "      <td>Em 2000, quantas pessoas moravam em Taguatinga?</td>\n",
       "      <td>243.575</td>\n",
       "      <td>De acordo com o contexto fornecido, em 2000, T...</td>\n",
       "    </tr>\n",
       "  </tbody>\n",
       "</table>\n",
       "</div>"
      ],
      "text/plain": [
       "                                            question      answer  \\\n",
       "0       Que Copa das Confederações recebeu Brasília?        2013   \n",
       "1  Qual é a indústria de não serviços mais import...  construção   \n",
       "2    Em 2000, quantas pessoas moravam em Taguatinga?     243.575   \n",
       "\n",
       "                                        llm_response  \n",
       "0  Brasília sediou a Copa das Confederações da FI...  \n",
       "1  De acordo com o contexto fornecido, a indústri...  \n",
       "2  De acordo com o contexto fornecido, em 2000, T...  "
      ]
     },
     "execution_count": 21,
     "metadata": {},
     "output_type": "execute_result"
    }
   ],
   "source": [
    "evaluation = rnd_queries.drop('id', axis=1)\n",
    "evaluation = evaluation.reset_index(drop=True)\n",
    "evaluation['llm_response'] = responses\n",
    "evaluation"
   ]
  },
  {
   "cell_type": "code",
   "execution_count": 23,
   "metadata": {},
   "outputs": [
    {
     "name": "stderr",
     "output_type": "stream",
     "text": [
      "Failed to determine 'entailment' label id from the label2id mapping in the model config. Setting to -1. Define a descriptive label2id mapping in the model config to ensure correct outputs.\n"
     ]
    },
    {
     "name": "stdout",
     "output_type": "stream",
     "text": [
      "Consulta: Que Copa das Confederações recebeu Brasília?\n",
      "Resposta da Consulta: 2013\n",
      "Resposta da LLM: Brasília sediou a Copa das Confederações da FIFA de 2013.\n",
      "Métricas de avaliação: {'BLEU': 3.7477767366779213, 'ROUGE-1': 0.15384615384615385, 'BERT P': 0.5398992300033569, 'BERT R': 0.6559317111968994, 'BERT F1': 0.5922861099243164, 'Perplexity': 141.208740234375, 'Diversity': 0.9, 'Racial Bias': 0.5057806968688965}\n",
      "\n",
      "Consulta: Qual é a indústria de não serviços mais importante de Brasília?\n",
      "Resposta da Consulta: construção\n",
      "Resposta da LLM: De acordo com o contexto fornecido, a indústria de não serviços mais importante de Brasília está relacionada à construção, seguida pelo processamento de alimentos e indústria de móveis. Além disso, são mencionadas as indústrias associadas à publicação, impressão e software de computador como sendo importantes. No entanto, não há uma indicação clara de que uma dessas indústrias seja considerada como a \"mais importante\" em termos de contribuição para o PIB ou emprego.\n",
      "\n",
      "Entretanto, considerando o contexto e a distribuição do PIB, que tem 10,2% relacionado à indústria, pode-se inferir que a indústria de construção é uma das mais relevantes, dado o papel da construção na economia de Brasília, que é mencionado como um dos principais papéis da cidade.\n",
      "Métricas de avaliação: {'BLEU': 0.26484328847892136, 'ROUGE-1': 0.02857142857142857, 'BERT P': 0.4901944398880005, 'BERT R': 0.6993503570556641, 'BERT F1': 0.5763846039772034, 'Perplexity': 82.14808654785156, 'Diversity': 0.9576271186440678, 'Racial Bias': 0.48821330070495605}\n",
      "\n",
      "Consulta: Em 2000, quantas pessoas moravam em Taguatinga?\n",
      "Resposta da Consulta: 243.575\n",
      "Resposta da LLM: De acordo com o contexto fornecido, em 2000, Taguatinga tinha 243.575 habitantes.\n",
      "Métricas de avaliação: {'BLEU': 2.627961710408444, 'ROUGE-1': 0.2666666666666667, 'BERT P': 0.608676552772522, 'BERT R': 0.7479021549224854, 'BERT F1': 0.6711450219154358, 'Perplexity': 1254.58740234375, 'Diversity': 0.9166666666666666, 'Racial Bias': 0.47862282395362854}\n",
      "\n"
     ]
    }
   ],
   "source": [
    "from rag_evaluator import RAGEvaluator\n",
    "\n",
    "evaluator = RAGEvaluator()\n",
    "\n",
    "for i, row in evaluation.iterrows():\n",
    "    query = row['question']\n",
    "    ground_truth = row['answer']\n",
    "    llm_response = row['llm_response']\n",
    "\n",
    "    metrics = evaluator.evaluate_all(query, llm_response, ground_truth)\n",
    "    \n",
    "    print(f\"Consulta: {query}\")\n",
    "    print(f\"Resposta da Consulta: {ground_truth}\")\n",
    "    print(f\"Resposta da LLM: {llm_response}\")\n",
    "    \n",
    "    print(f\"Métricas de avaliação: {metrics}\")\n",
    "    print()"
   ]
  }
 ],
 "metadata": {
  "kernelspec": {
   "display_name": "ml",
   "language": "python",
   "name": "python3"
  },
  "language_info": {
   "codemirror_mode": {
    "name": "ipython",
    "version": 3
   },
   "file_extension": ".py",
   "mimetype": "text/x-python",
   "name": "python",
   "nbconvert_exporter": "python",
   "pygments_lexer": "ipython3",
   "version": "3.11.4"
  }
 },
 "nbformat": 4,
 "nbformat_minor": 2
}
